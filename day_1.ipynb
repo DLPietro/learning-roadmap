{
  "nbformat": 4,
  "nbformat_minor": 0,
  "metadata": {
    "colab": {
      "provenance": [],
      "authorship_tag": "ABX9TyNo+BmpokW5ROoO2HyXth+P",
      "include_colab_link": true
    },
    "kernelspec": {
      "name": "python3",
      "display_name": "Python 3"
    },
    "language_info": {
      "name": "python"
    }
  },
  "cells": [
    {
      "cell_type": "markdown",
      "metadata": {
        "id": "view-in-github",
        "colab_type": "text"
      },
      "source": [
        "<a href=\"https://colab.research.google.com/github/DLPietro/learning-roadmap/blob/main/day_1.ipynb\" target=\"_parent\"><img src=\"https://colab.research.google.com/assets/colab-badge.svg\" alt=\"Open In Colab\"/></a>"
      ]
    },
    {
      "cell_type": "markdown",
      "source": [
        "**Step 1 COMPLETED**: importing libraries"
      ],
      "metadata": {
        "id": "L8tULfdDEIXQ"
      }
    },
    {
      "cell_type": "code",
      "execution_count": 60,
      "metadata": {
        "id": "BtgrEvFy8jb-"
      },
      "outputs": [],
      "source": [
        "### DAY 1: DOWNLOAD AND EXERCIZE ON FINANCIAL DATA\n",
        "# MAIN GOALS\n",
        "# Understanding data types, and first approach\n",
        "\n",
        "# Step 1: Importing Yahoo Finance\n",
        "#!pip install yfinance pandas         # Command to download the Yahoo Finance and Pandas library tool\n",
        "import yfinance as yf, pandas as pd      # import the library to be used on the script"
      ]
    },
    {
      "cell_type": "markdown",
      "source": [
        "**Step 2 COMPLETED**: downloading and showing data"
      ],
      "metadata": {
        "id": "K8qLbGP9-7pu"
      }
    },
    {
      "cell_type": "code",
      "source": [
        "# Step 2: Download last 30 days of APPL Inc. Stock\n",
        "ticker = 'AAPL'                                 # Apple ticker selected\n",
        "data = yf.download(ticker, period = '30d')      # Select Asset and period\n",
        "close_prices = data['Close']                  # Closing prince selected\n",
        "print(close_prices[:4])                       # Showing the first 5 rows / daily prices of the stock"
      ],
      "metadata": {
        "colab": {
          "base_uri": "https://localhost:8080/"
        },
        "id": "WhLcnMJ98zMO",
        "outputId": "b664e43a-664a-4408-ab4f-364738cbc6fa"
      },
      "execution_count": 61,
      "outputs": [
        {
          "output_type": "stream",
          "name": "stderr",
          "text": [
            "/tmp/ipython-input-4060497189.py:3: FutureWarning: YF.download() has changed argument auto_adjust default to True\n",
            "  data = yf.download(ticker, period = '30d')      # Select Asset and period\n",
            "[*********************100%***********************]  1 of 1 completed"
          ]
        },
        {
          "output_type": "stream",
          "name": "stdout",
          "text": [
            "Ticker            AAPL\n",
            "Date                  \n",
            "2025-07-10  212.169205\n",
            "2025-07-11  210.920624\n",
            "2025-07-14  208.383499\n",
            "2025-07-15  208.872955\n"
          ]
        },
        {
          "output_type": "stream",
          "name": "stderr",
          "text": [
            "\n"
          ]
        }
      ]
    },
    {
      "cell_type": "markdown",
      "source": [
        "**Step 3 EXERCISE COMPLETED** : calculating min, max and avg values"
      ],
      "metadata": {
        "id": "oNEqOp14EuFv"
      }
    },
    {
      "cell_type": "code",
      "source": [
        "### EXERCISE 1: SAVING PRICES AND PRINT FIRST STATS\n",
        "min_price = close_prices.min()                     # Calculatin min, max and mean price\n",
        "max_price = close_prices.max()\n",
        "avg_price = close_prices.mean()\n",
        "std_price = close_prices.std()\n",
        "\n",
        "stats = {\"Ticker\": ticker,\n",
        "          \"Min\": min_price,\n",
        "          \"Max\": max_price,\n",
        "          \"Average\": avg_price,\n",
        "          \"Standard Deviation\": std_price}\n",
        "print(stats)"
      ],
      "metadata": {
        "id": "qG_YeKnS_JI8"
      },
      "execution_count": null,
      "outputs": []
    },
    {
      "cell_type": "markdown",
      "source": [
        "**Step 4 EXERCISE COMPLETED** : calculating daily returns"
      ],
      "metadata": {
        "id": "QJ0I1AFrJwX-"
      }
    },
    {
      "cell_type": "code",
      "source": [
        "### EXERCISE 2: COMPUTING DAILY RETURNS OF THE ASSET\n",
        "daily_returns = []\n",
        "for i in range(1, len(close_prices)):\n",
        "  today = close_prices.iloc[i]\n",
        "  yesterday = close_prices.iloc[i-1]\n",
        "  ret = (((today - yesterday) / yesterday) * 100)\n",
        "  daily_returns.append(round(ret, 2))\n",
        "\n",
        "print('Daily Returns', daily_returns[:5])              # It shows the result of the first 5 values"
      ],
      "metadata": {
        "colab": {
          "base_uri": "https://localhost:8080/"
        },
        "id": "oZyEjsBIKBJr",
        "outputId": "f35e6771-04a1-4d93-c9ef-fdd7fe62d712"
      },
      "execution_count": 71,
      "outputs": [
        {
          "output_type": "stream",
          "name": "stdout",
          "text": [
            "Daily Returns [Ticker\n",
            "AAPL   -0.59\n",
            "dtype: float64, Ticker\n",
            "AAPL   -1.2\n",
            "dtype: float64, Ticker\n",
            "AAPL    0.23\n",
            "dtype: float64, Ticker\n",
            "AAPL    0.5\n",
            "dtype: float64, Ticker\n",
            "AAPL   -0.07\n",
            "dtype: float64]\n"
          ]
        }
      ]
    }
  ]
}