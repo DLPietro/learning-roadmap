{
  "nbformat": 4,
  "nbformat_minor": 0,
  "metadata": {
    "colab": {
      "provenance": [],
      "authorship_tag": "ABX9TyMEodmWM0BWdeiePEJFmrT6",
      "include_colab_link": true
    },
    "kernelspec": {
      "name": "python3",
      "display_name": "Python 3"
    },
    "language_info": {
      "name": "python"
    }
  },
  "cells": [
    {
      "cell_type": "markdown",
      "metadata": {
        "id": "view-in-github",
        "colab_type": "text"
      },
      "source": [
        "<a href=\"https://colab.research.google.com/github/DLPietro/learning-roadmap/blob/main/notebooks/day_2.ipynb\" target=\"_parent\"><img src=\"https://colab.research.google.com/assets/colab-badge.svg\" alt=\"Open In Colab\"/></a>"
      ]
    },
    {
      "cell_type": "markdown",
      "source": [
        "**Annualised Return & Volatiliy**\n",
        "\n",
        "**Step 1 COMPLETED**: importing libraries\n"
      ],
      "metadata": {
        "id": "DRkCKImZA6BP"
      }
    },
    {
      "cell_type": "code",
      "execution_count": 12,
      "metadata": {
        "id": "wa8AUMJiA1Qi"
      },
      "outputs": [],
      "source": [
        "### DAY 2: DOWNLOAD AND EXERCIZE ON FINANCIAL DATA\n",
        "\n",
        "# MAIN GOALS\n",
        "# Learning how to use Python's functions\n",
        "# Calculating annualized returns from daily returns - Formula = (1 + Daily return)^252 - 1\n",
        "# Calculating Volatility\n",
        "# Applying the function to more Tickers\n",
        "\n",
        "# Step 1: Installing & importaing Libraries (Yahoo Finance, Pandas)\n",
        "# !pip install yfinance pandas numpy          # Installing both with a single command\n",
        "import yfinance as yf, pandas as pd, numpy as np   # Importing them in a single row"
      ]
    },
    {
      "cell_type": "markdown",
      "source": [
        "**Step 2 COMPLETED**: downloading and showing data (This time 60 days)"
      ],
      "metadata": {
        "id": "-FNX_PZTBUN5"
      }
    },
    {
      "cell_type": "code",
      "source": [
        "# Step 2: Download last 60 days of at least 3 Tickers\n",
        "tickers = ['AAPL', 'MSFT', 'GOOGL']                                # Defined tickets\n",
        "data = yf.download(tickers, period = '60d')                        # Selected assets: Apple, Microsoft and Google for a peirod of 60 days\n",
        "close_prices = data['Close'][['AAPL', 'MSFT', 'GOOGL']]            # Only Closing prices\n",
        "print(close_prices.iloc[-1])                                       # Print last prices available"
      ],
      "metadata": {
        "colab": {
          "base_uri": "https://localhost:8080/"
        },
        "id": "liYom1SLBhq2",
        "outputId": "5e3ec537-ae98-412e-e144-6bd2612fc664"
      },
      "execution_count": 7,
      "outputs": [
        {
          "output_type": "stream",
          "name": "stderr",
          "text": [
            "/tmp/ipython-input-2886330266.py:3: FutureWarning: YF.download() has changed argument auto_adjust default to True\n",
            "  data = yf.download(tickers, period = '60d')                        # Selected assets: Apple, Microsoft and Google for a peirod of 60 days\n",
            "[*********************100%***********************]  3 of 3 completed"
          ]
        },
        {
          "output_type": "stream",
          "name": "stdout",
          "text": [
            "Ticker\n",
            "AAPL     227.759995\n",
            "MSFT     507.230011\n",
            "GOOGL    206.089996\n",
            "Name: 2025-08-22 00:00:00, dtype: float64\n"
          ]
        },
        {
          "output_type": "stream",
          "name": "stderr",
          "text": [
            "\n"
          ]
        }
      ]
    },
    {
      "cell_type": "markdown",
      "source": [
        "**Step 3 EXERCISE COMPLETED**: creating annualised returns function"
      ],
      "metadata": {
        "id": "z_STItNfCpCT"
      }
    },
    {
      "cell_type": "code",
      "source": [
        "\n",
        "### EXERCISE 1: CALCULATING DAILY RETURNS (AS AT DAY 1), ANNAUALISED RETURNS Function\n",
        "def calc_daily_returns(prices):\n",
        "  returns = []                                             # Function for daily return calculation\n",
        "  for i in range(1, len(prices)):                          # The loop uses the formula to calculate the daily returns, comparing the percentage of the first with the previous one\n",
        "    ret = (prices[i] / prices[i-1]) - 1\n",
        "    returns.append(round(ret, 2))\n",
        "  return returns"
      ],
      "metadata": {
        "id": "kyn0UyUgDHU8"
      },
      "execution_count": 8,
      "outputs": []
    },
    {
      "cell_type": "markdown",
      "source": [
        "**Step 4 EXERCISE COMPLETED**: creating volatility function"
      ],
      "metadata": {
        "id": "nyEaWtB6EZgd"
      }
    },
    {
      "cell_type": "code",
      "source": [
        "### EXERCISE 2: CALCULATING DAILY AND ANNAUALISED VOLATILITY Function\n",
        "def calc_annualized_return(daily_returns):\n",
        "  daily_returns = np.array(daily_returns)                               # Data Array conversion\n",
        "  daily_return_avg = np.mean(daily_returns)                             # Daily Return Mean\n",
        "  annualized_return = (1 + daily_return_avg) ** 252 - 1                 # Annualised Return\n",
        "  volatility_daily = np.std(daily_returns)                              # Daily Volatility\n",
        "  annualized_volatility = volatility_daily * np.sqrt(252)               # Annualised Volatility\n",
        "  return {\n",
        "  \"annualized_return\": round(annualized_return, 4),\n",
        "  \"annualized_volatility\": round(annualized_volatility, 4)\n",
        "}"
      ],
      "metadata": {
        "id": "XsBEECttEuDk"
      },
      "execution_count": 9,
      "outputs": []
    },
    {
      "cell_type": "markdown",
      "source": [
        "**Step 5 COMPLETED**: applying the formulas to all tickets and showing the results"
      ],
      "metadata": {
        "id": "pa6Ny4di05fz"
      }
    },
    {
      "cell_type": "code",
      "source": [
        "# EXERCISE 3: applying the functions to the tickets\n",
        "results = {}\n",
        "\n",
        "for ticker in tickers:\n",
        "    prices = close_prices[ticker].dropna()                    # Taking prices a ticker at a time\n",
        "    daily_rets = calc_daily_returns(prices)                   # daily returns formula\n",
        "    metrics = calc_annualized_return(daily_rets)              # annualised daily returns\n",
        "    results[ticker] = metrics                                 # save in the dictionary\n",
        "\n",
        "# SHOWING RESULTS\n",
        "print(\"📊 Annualised Metrics (days = 60)\")                    # Print Title\n",
        "print(\"-\" * 50)                                               # Visual Format settings\n",
        "for ticker, metrics in results.items():                       # For cycle for each ticker in ticker, this time only 3\n",
        "    ret = metrics['annualized_return']\n",
        "    vol = metrics['annualized_volatility']\n",
        "    print(f\"{ticker:6} | Return: {ret:6.1%} | Volatility: {vol:6.1%}\")"
      ],
      "metadata": {
        "colab": {
          "base_uri": "https://localhost:8080/"
        },
        "id": "k04-whbE1JRB",
        "outputId": "88185a56-5ce1-4999-8e5c-5fa845182e24"
      },
      "execution_count": 13,
      "outputs": [
        {
          "output_type": "stream",
          "name": "stdout",
          "text": [
            "📊 Annualised Metrics (days = 60)\n",
            "--------------------------------------------------\n",
            "AAPL   | Return:  89.6% | Volatility:  22.0%\n",
            "MSFT   | Return:  53.2% | Volatility:  15.8%\n",
            "GOOGL  | Return: 115.5% | Volatility:  22.9%\n"
          ]
        },
        {
          "output_type": "stream",
          "name": "stderr",
          "text": [
            "/tmp/ipython-input-3499819306.py:5: FutureWarning: Series.__getitem__ treating keys as positions is deprecated. In a future version, integer keys will always be treated as labels (consistent with DataFrame behavior). To access a value by position, use `ser.iloc[pos]`\n",
            "  ret = (prices[i] / prices[i-1]) - 1\n"
          ]
        }
      ]
    }
  ]
}