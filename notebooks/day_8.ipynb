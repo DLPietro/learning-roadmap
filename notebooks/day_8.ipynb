{
  "nbformat": 4,
  "nbformat_minor": 0,
  "metadata": {
    "colab": {
      "provenance": [],
      "toc_visible": true,
      "authorship_tag": "ABX9TyNgunaICm+a9CN7YXX/uDzA",
      "include_colab_link": true
    },
    "kernelspec": {
      "name": "python3",
      "display_name": "Python 3"
    },
    "language_info": {
      "name": "python"
    }
  },
  "cells": [
    {
      "cell_type": "markdown",
      "metadata": {
        "id": "view-in-github",
        "colab_type": "text"
      },
      "source": [
        "<a href=\"https://colab.research.google.com/github/DLPietro/learning-roadmap/blob/main/notebooks/day_8.ipynb\" target=\"_parent\"><img src=\"https://colab.research.google.com/assets/colab-badge.svg\" alt=\"Open In Colab\"/></a>"
      ]
    },
    {
      "cell_type": "markdown",
      "source": [
        "# Day 8 – Structuring the Dashboard"
      ],
      "metadata": {
        "id": "ffYvjKs-oJ4w"
      }
    },
    {
      "cell_type": "markdown",
      "source": [
        "Main Goals\n",
        "\n",
        "- Create a reusable function to download data for selected tickers and period\n",
        "- Handle missing values (forward fill or drop)\n",
        "- Return a clean DataFrame as the basis for the dashboard\n"
      ],
      "metadata": {
        "id": "Nk9FBJzobOpM"
      }
    },
    {
      "cell_type": "markdown",
      "source": [
        "**1**) Preparatory Exercise - Creating a Simple Function"
      ],
      "metadata": {
        "id": "Ubs0475nekgP"
      }
    },
    {
      "cell_type": "code",
      "source": [
        "# Example: create a function that takes a list of numbers and returns their squares\n",
        "def number_root(numbers):\n",
        "    return [i**0.5 for i in numbers]\n",
        "\n",
        "print(number_root([9, 25, 36, 10000]))"
      ],
      "metadata": {
        "id": "RIJbDwfqPiTq",
        "outputId": "0665193a-5295-4af3-f53c-62b4b96f85e1",
        "colab": {
          "base_uri": "https://localhost:8080/"
        }
      },
      "execution_count": null,
      "outputs": [
        {
          "output_type": "stream",
          "name": "stdout",
          "text": [
            "[3.0, 5.0, 6.0, 100.0]\n"
          ]
        }
      ]
    },
    {
      "cell_type": "markdown",
      "source": [
        "2) Main Task – Data Download & Cleaning"
      ],
      "metadata": {
        "id": "h-T3yy4LeiG-"
      }
    },
    {
      "cell_type": "code",
      "source": [
        "import yfinance as yf, pandas as pd, numpy as np, matplotlib.pyplot as plt\n",
        "\n",
        "\n",
        "# Step 1: Define a function to download and clean data\n",
        "\n",
        "def get_data(tickers, period=\"90d\"):\n",
        "\n",
        "    data = yf.download(tickers, period=period)\n",
        "    close_prices = data[\"Close\"]\n",
        "    clean_data = close_prices.ffill()   # forward fill missing values\n",
        "\n",
        "    return clean_data\n",
        "\n",
        "# Step 2: Test the function\n",
        "tickers = [\"IWM\", \"GLD\", \"IGOV\", \"AAPL\"]\n",
        "prices = get_data(tickers, period=\"90d\")\n",
        "\n",
        "print(prices.head(4))"
      ],
      "metadata": {
        "id": "t473Hi_tRDRM",
        "outputId": "fed25726-576d-415f-bf93-f5170af4c7f5",
        "colab": {
          "base_uri": "https://localhost:8080/"
        }
      },
      "execution_count": 3,
      "outputs": [
        {
          "output_type": "stream",
          "name": "stderr",
          "text": [
            "/tmp/ipython-input-1169955478.py:8: FutureWarning: YF.download() has changed argument auto_adjust default to True\n",
            "  data = yf.download(tickers, period=period)\n",
            "[*********************100%***********************]  4 of 4 completed"
          ]
        },
        {
          "output_type": "stream",
          "name": "stdout",
          "text": [
            "Ticker            AAPL         GLD       IGOV         IWM\n",
            "Date                                                     \n",
            "2025-05-06  198.025269  315.480011  41.900002  196.227432\n",
            "2025-05-07  195.770798  310.750000  41.790001  196.875626\n",
            "2025-05-08  197.007782  304.630005  41.209999  200.625259\n",
            "2025-05-09  198.045242  306.839996  41.380001  200.256271\n"
          ]
        },
        {
          "output_type": "stream",
          "name": "stderr",
          "text": [
            "\n"
          ]
        }
      ]
    },
    {
      "cell_type": "markdown",
      "source": [
        "3) Consolidation Exercise - Managing NaN and Time Series Period"
      ],
      "metadata": {
        "id": "27TrIuYxipQd"
      }
    },
    {
      "cell_type": "code",
      "source": [
        "# Step 3: Create a function to managing NaN and time series Period\n",
        "\n",
        "def get_customised_data(tickers, start, end, missing_method=\"ffill\"):\n",
        "\n",
        "    data = yf.download(tickers, start = start, end = end)\n",
        "    close_prices = data[\"Close\"]\n",
        "\n",
        "    if missing_method == \"ffill\":\n",
        "      clean_data = close_prices.ffill()   # forward fill missing values\n",
        "    elif missing_method ==\"bfill\":\n",
        "      clean_data = close_prices.bfill()   # backward fill missing values\n",
        "    elif missing_method == \"drop\":\n",
        "      clean_data = close_prices.dropna()  # drop missing values\n",
        "    else:\n",
        "      raise ValueError(\"missing_method must be 'ffill', 'bfill' or 'drop'\")\n",
        "    return clean_data\n",
        "\n",
        "# Step 2: Test the function\n",
        "tickers = [\"IWM\", \"GLD\", \"IGOV\", \"AAPL\"]\n",
        "prices = get_customised_data(\n",
        "    tickers = tickers,\n",
        "    start = \"2025-01-01\",\n",
        "    end = \"2025-03-01\",\n",
        "    missing_method = \"bfill\"\n",
        ")\n",
        "\n",
        "print(prices.tail(4))"
      ],
      "metadata": {
        "id": "-CtSBtHmSmXQ",
        "outputId": "9ec2b038-c5cd-40a1-a980-753a14ebd7fe",
        "colab": {
          "base_uri": "https://localhost:8080/"
        }
      },
      "execution_count": 15,
      "outputs": [
        {
          "output_type": "stream",
          "name": "stderr",
          "text": [
            "/tmp/ipython-input-4228911567.py:5: FutureWarning: YF.download() has changed argument auto_adjust default to True\n",
            "  data = yf.download(tickers, start = start, end = end)\n",
            "[*********************100%***********************]  4 of 4 completed"
          ]
        },
        {
          "output_type": "stream",
          "name": "stdout",
          "text": [
            "Ticker            AAPL         GLD       IGOV         IWM\n",
            "Date                                                     \n",
            "2025-02-25  246.436783  268.619995  39.259998  214.335052\n",
            "2025-02-26  239.773102  269.029999  39.340000  214.603699\n",
            "2025-02-27  236.720566  264.929993  38.910000  211.330124\n",
            "2025-02-28  241.249481  263.269989  38.860001  213.578827\n"
          ]
        },
        {
          "output_type": "stream",
          "name": "stderr",
          "text": [
            "\n"
          ]
        }
      ]
    }
  ]
}