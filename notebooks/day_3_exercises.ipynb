{
  "nbformat": 4,
  "nbformat_minor": 0,
  "metadata": {
    "colab": {
      "provenance": [],
      "authorship_tag": "ABX9TyNw1BJZBazApygKQc9ws7OP",
      "include_colab_link": true
    },
    "kernelspec": {
      "name": "python3",
      "display_name": "Python 3"
    },
    "language_info": {
      "name": "python"
    }
  },
  "cells": [
    {
      "cell_type": "markdown",
      "metadata": {
        "id": "view-in-github",
        "colab_type": "text"
      },
      "source": [
        "<a href=\"https://colab.research.google.com/github/DLPietro/learning-roadmap/blob/main/week-1/exercises.ipynb\" target=\"_parent\"><img src=\"https://colab.research.google.com/assets/colab-badge.svg\" alt=\"Open In Colab\"/></a>"
      ]
    },
    {
      "cell_type": "markdown",
      "source": [
        "Esercizio 1: Input + Conversione + Operatori (Cap. 5-6)\n",
        "\n",
        "Chiedi all’utente due numeri interi.\n",
        "Calcola e stampa:\n",
        "\n",
        "    Somma\n",
        "    Differenza\n",
        "    Prodotto\n",
        "    Divisione (arrotondata a 2 decimali)\n",
        "     \n",
        "\n",
        "📌 Attenzione: gestisci correttamente la conversione da stringa a numero."
      ],
      "metadata": {
        "id": "k9H52yxGiQWZ"
      }
    },
    {
      "cell_type": "code",
      "execution_count": 6,
      "metadata": {
        "colab": {
          "base_uri": "https://localhost:8080/"
        },
        "id": "2c40saEviKbY",
        "outputId": "ab44bc98-e0af-4ac9-bbc9-533e9380decd"
      },
      "outputs": [
        {
          "output_type": "stream",
          "name": "stdout",
          "text": [
            "Primo Numero: 65\n",
            "Secondo Numero: 56\n",
            "{'somma': 121, 'differenza': 9, 'prodotto': 3640, 'divisione': 1.16}\n"
          ]
        }
      ],
      "source": [
        "a = int(input(\"Primo Numero: \"))\n",
        "b = int(input(\"Secondo Numero: \"))\n",
        "\n",
        "somma = a + b\n",
        "differenza = a - b\n",
        "prodotto = a * b\n",
        "divisione = round(a / b, 2)\n",
        "\n",
        "risultati = {\"somma\": somma,\n",
        "      \"differenza\": differenza,\n",
        "      \"prodotto\": prodotto,\n",
        "      \"divisione\": divisione}\n",
        "\n",
        "print(risultati)"
      ]
    },
    {
      "cell_type": "markdown",
      "source": [
        "Esercizio 2: Condizioni (Cap. 7-8)\n",
        "\n",
        "Chiedi all’utente un voto (da 0 a 100).\n",
        "Stampa il voto in lettere:\n",
        "\n",
        "    A: 90–100\n",
        "    B: 80–89\n",
        "    C: 70–79\n",
        "    D: 60–69\n",
        "    F: <60\n",
        "     \n",
        "\n",
        "📌 Usa if, elif, else.\n",
        "📌 Gestisci input errati (es. voto > 100) con un messaggio di errore."
      ],
      "metadata": {
        "id": "7nkiktE9k5KH"
      }
    },
    {
      "cell_type": "code",
      "source": [
        "voto = int(input(\"Voto da 0 a 100: \"))\n",
        "\n",
        "if voto < 0 or voto > 100:\n",
        "  print('Non Valido')\n",
        "elif voto >= 90:\n",
        "  print('A')\n",
        "elif voto >= 80:\n",
        "  print('B')\n",
        "elif voto >= 70:\n",
        "  print('C')\n",
        "elif voto >= 60:\n",
        "  print('D')\n",
        "else:\n",
        "  print('F')"
      ],
      "metadata": {
        "id": "cL0DZNinmMku",
        "colab": {
          "base_uri": "https://localhost:8080/"
        },
        "outputId": "b1075e5a-5824-4f88-e645-1dbb3ad0b3ea"
      },
      "execution_count": 10,
      "outputs": [
        {
          "output_type": "stream",
          "name": "stdout",
          "text": [
            "Voto da 0 a 100: 110\n",
            "Non Valido\n"
          ]
        }
      ]
    },
    {
      "cell_type": "markdown",
      "source": [
        "Esercizio 3: Cicli for (Cap. 10)\n",
        "\n",
        "Chiedi all’utente un numero positivo n.\n",
        "Usa un ciclo for per stampare tutti i numeri da 1 a n, uno per riga.\n",
        "\n",
        "📌 Usa range() correttamente."
      ],
      "metadata": {
        "id": "YnIpXId3IKtc"
      }
    },
    {
      "cell_type": "code",
      "source": [
        "positivo = int(input(\"Numero Positivo: \"))\n",
        "\n",
        "for i in range(1, positivo + 1):\n",
        "  print(i)"
      ],
      "metadata": {
        "colab": {
          "base_uri": "https://localhost:8080/"
        },
        "id": "TJXkFU2uGCoa",
        "outputId": "f9749611-635d-403a-be7c-f9f7bef7be99"
      },
      "execution_count": 14,
      "outputs": [
        {
          "output_type": "stream",
          "name": "stdout",
          "text": [
            "Numero Positivo: 4\n",
            "1\n",
            "2\n",
            "3\n",
            "4\n"
          ]
        }
      ]
    },
    {
      "cell_type": "markdown",
      "source": [
        "Esercizio 4: Cicli while + accumulatore (Cap. 9)\n",
        "\n",
        "Chiedi all’utente un numero positivo n.\n",
        "Usa un ciclo while per calcolare la somma di tutti i numeri da 1 a n.\n",
        "Stampa il risultato.\n",
        "\n",
        "📌 Ricorda: devi aggiornare sia il contatore che l’accumulatore."
      ],
      "metadata": {
        "id": "BOPBIH9QKT6z"
      }
    },
    {
      "cell_type": "code",
      "source": [
        "numero = int(input(\"Numero positivo: \"))\n",
        "contatore = 1\n",
        "somma = 0\n",
        "\n",
        "while contatore <= numero:\n",
        "  somma += contatore\n",
        "  contatore += 1\n",
        "\n",
        "print(f\"La somma da 1 a {numero} è: {somma}\")"
      ],
      "metadata": {
        "colab": {
          "base_uri": "https://localhost:8080/"
        },
        "id": "BbcqDxu5KXyp",
        "outputId": "79632aae-91ee-47c4-c995-84b8ab4aec70"
      },
      "execution_count": 19,
      "outputs": [
        {
          "output_type": "stream",
          "name": "stdout",
          "text": [
            "Numero positivo: 7\n",
            "La somma da 1 a 7 è: 28\n"
          ]
        }
      ]
    },
    {
      "cell_type": "markdown",
      "source": [
        "Esercizio 5: Stringhe – Immutabilità e metodi (Cap. 11-12)\n",
        "\n",
        "Chiedi all’utente una frase.\n",
        "Poi:\n",
        "\n",
        "    Rimuovi spazi iniziali e finali\n",
        "    Trasformala in minuscolo\n",
        "    Sostituisci tutte le vocali a, e, i con *\n",
        "    Stampa il risultato\n",
        "     \n",
        "\n",
        "📌 Attenzione: devi assegnare ogni risultato a una variabile (o concatenare i metodi)."
      ],
      "metadata": {
        "id": "JRXWjY07NeyK"
      }
    },
    {
      "cell_type": "code",
      "source": [
        "frase = str(input(\"Inserisci una frase: \"))\n",
        "\n",
        "frase = frase.strip().lower().replace(\"a\", \"*\").replace(\"e\", \"*\").replace(\"i\", \"*\")\n",
        "\n",
        "print(frase)"
      ],
      "metadata": {
        "colab": {
          "base_uri": "https://localhost:8080/"
        },
        "id": "fkxkTjixNjlq",
        "outputId": "78453c4d-1785-48fe-d705-cafadf1f0e54"
      },
      "execution_count": 26,
      "outputs": [
        {
          "output_type": "stream",
          "name": "stdout",
          "text": [
            "Inserisci una frase:     pag    gf   eeeee\n",
            "p*g    gf   *****\n"
          ]
        }
      ]
    },
    {
      "cell_type": "markdown",
      "source": [
        "Esercizio 6: Combinato – Input, stringhe, condizioni, cicli\n",
        "\n",
        "Chiedi all’utente una parola.\n",
        "Poi:\n",
        "\n",
        "    Se la parola ha meno di 3 caratteri, stampa \"Troppo corta\".\n",
        "    Altrimenti:\n",
        "        Convertila in minuscolo\n",
        "        Controlla se è un palindromo\n",
        "        Stampa il risultato\n",
        "         \n",
        "     \n",
        "\n",
        "📌 Usa .lower() e [::-1]\n",
        "📌 Esempio: \"Anna\" → \"anna\" → \"anna\" → palindromo!"
      ],
      "metadata": {
        "id": "bC0CH5i3VGNZ"
      }
    },
    {
      "cell_type": "code",
      "source": [
        "parola = str(input(\"Inserisci una parola: \"))\n",
        "parola_lower = parola.lower()\n",
        "\n",
        "if len(parola) < 3:\n",
        "  print(\"Troppo corta\")\n",
        "else:\n",
        "  if parola_lower == parola_lower[::-1]:\n",
        "    print(\"Palindromo\")\n",
        "  else:\n",
        "    print(\"Non Palindromo\")\n"
      ],
      "metadata": {
        "colab": {
          "base_uri": "https://localhost:8080/"
        },
        "id": "rvwRRWrjOUNK",
        "outputId": "196f2fa6-56f0-488e-b0c5-99088031e04a"
      },
      "execution_count": 30,
      "outputs": [
        {
          "output_type": "stream",
          "name": "stdout",
          "text": [
            "Inserisci una parola: Allora\n",
            "Non Palindromo\n"
          ]
        }
      ]
    }
  ]
}
