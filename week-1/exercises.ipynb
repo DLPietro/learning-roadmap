{
  "nbformat": 4,
  "nbformat_minor": 0,
  "metadata": {
    "colab": {
      "provenance": [],
      "authorship_tag": "ABX9TyNmZeZtmO6fPBXV5fy6rUWx",
      "include_colab_link": true
    },
    "kernelspec": {
      "name": "python3",
      "display_name": "Python 3"
    },
    "language_info": {
      "name": "python"
    }
  },
  "cells": [
    {
      "cell_type": "markdown",
      "metadata": {
        "id": "view-in-github",
        "colab_type": "text"
      },
      "source": [
        "<a href=\"https://colab.research.google.com/github/DLPietro/learning-roadmap/blob/main/week-1/exercises.ipynb\" target=\"_parent\"><img src=\"https://colab.research.google.com/assets/colab-badge.svg\" alt=\"Open In Colab\"/></a>"
      ]
    },
    {
      "cell_type": "markdown",
      "source": [
        "Esercizio 1: Input + Conversione + Operatori (Cap. 5-6)\n",
        "\n",
        "Chiedi all’utente due numeri interi.\n",
        "Calcola e stampa:\n",
        "\n",
        "    Somma\n",
        "    Differenza\n",
        "    Prodotto\n",
        "    Divisione (arrotondata a 2 decimali)\n",
        "     \n",
        "\n",
        "📌 Attenzione: gestisci correttamente la conversione da stringa a numero."
      ],
      "metadata": {
        "id": "k9H52yxGiQWZ"
      }
    },
    {
      "cell_type": "code",
      "execution_count": 7,
      "metadata": {
        "colab": {
          "base_uri": "https://localhost:8080/"
        },
        "id": "2c40saEviKbY",
        "outputId": "3c3bb6dd-cda3-4c7d-f277-3b235b09a5e8"
      },
      "outputs": [
        {
          "output_type": "stream",
          "name": "stdout",
          "text": [
            "{'somma': 92, 'differenza': 18, 'prodotto': 2035, 'divisione': 1.49}\n"
          ]
        }
      ],
      "source": [
        "a = 55\n",
        "b = 37\n",
        "\n",
        "somma = a + b\n",
        "differenza = a - b\n",
        "prodotto = a * b\n",
        "divisione = round(a / b, 2)\n",
        "\n",
        "risultati = {\"somma\": somma,\n",
        "      \"differenza\": differenza,\n",
        "      \"prodotto\": prodotto,\n",
        "      \"divisione\": divisione}\n",
        "\n",
        "print(risultati)"
      ]
    },
    {
      "cell_type": "markdown",
      "source": [
        "Esercizio 2: Condizioni (Cap. 7-8)\n",
        "\n",
        "Chiedi all’utente un voto (da 0 a 100).\n",
        "Stampa il voto in lettere:\n",
        "\n",
        "    A: 90–100\n",
        "    B: 80–89\n",
        "    C: 70–79\n",
        "    D: 60–69\n",
        "    F: <60\n",
        "     \n",
        "\n",
        "📌 Usa if, elif, else.\n",
        "📌 Gestisci input errati (es. voto > 100) con un messaggio di errore."
      ],
      "metadata": {
        "id": "7nkiktE9k5KH"
      }
    },
    {
      "cell_type": "code",
      "source": [
        "if voto < 60:\n",
        "  print('F')\n",
        "elif voto >= 60:\n",
        "  print('')"
      ],
      "metadata": {
        "id": "cL0DZNinmMku"
      },
      "execution_count": null,
      "outputs": []
    }
  ]
}